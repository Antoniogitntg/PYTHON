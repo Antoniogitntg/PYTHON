{
 "cells": [
  {
   "cell_type": "code",
   "execution_count": 8,
   "metadata": {},
   "outputs": [
    {
     "name": "stdout",
     "output_type": "stream",
     "text": [
      "hola\n",
      "(2, 3, 4, 5)\n"
     ]
    }
   ],
   "source": [
    "print(\"hola\")\n",
    "a=tuple(range(2,6))\n",
    "print(a)"
   ]
  },
  {
   "cell_type": "code",
   "execution_count": 9,
   "metadata": {},
   "outputs": [
    {
     "name": "stdout",
     "output_type": "stream",
     "text": [
      "['a', 'b', 'c', 'd'] [1, 2, 3] {0: 1, 1: 2, 2: 4, 3: 5}\n"
     ]
    }
   ],
   "source": [
    "a = {'a':1,'c':2,'b':3,'d':0}\n",
    "b =(1,2,3)\n",
    "c={1,4,5,2}\n",
    "m=sorted(b)\n",
    "n = sorted(a)\n",
    "o= dict (enumerate(c))\n",
    "print (n,m,o)"
   ]
  },
  {
   "cell_type": "markdown",
   "metadata": {},
   "source": [
    "Dada una lista de nombres de alumnos, y otra con las notas cada uno, genera un diccionario que indique para cada alumno sus notas.\n",
    "\n"
   ]
  },
  {
   "cell_type": "code",
   "execution_count": 10,
   "metadata": {},
   "outputs": [
    {
     "data": {
      "text/plain": [
       "{'b': 6, 'a': 7}"
      ]
     },
     "execution_count": 10,
     "metadata": {},
     "output_type": "execute_result"
    }
   ],
   "source": [
    "l1 = [\"b\", \"a\"]\n",
    "l2 = [6,7]\n",
    "a = dict(zip(l1,l2))\n",
    "a"
   ]
  },
  {
   "cell_type": "markdown",
   "metadata": {},
   "source": [
    "- Genera una lista de alumnos a partir del diccionario anterior ordenado por notas descendents. Usar sorted-lambda (https://docs.python.org/3/howto/sorting.html)"
   ]
  },
  {
   "cell_type": "code",
   "execution_count": 11,
   "metadata": {},
   "outputs": [
    {
     "name": "stdout",
     "output_type": "stream",
     "text": [
      "['z', 'c', 'a']\n"
     ]
    }
   ],
   "source": [
    "l1 = [\"z\", \"a\",'c']\n",
    "l2 = [6,7,1]\n",
    "l3=[33,4,7]\n",
    "a = dict(zip(l1,l2))\n",
    "\n",
    "c=sorted (a, key=lambda s : s[0],reverse = True)\n",
    "\n",
    "print(c)"
   ]
  },
  {
   "cell_type": "code",
   "execution_count": 12,
   "metadata": {},
   "outputs": [
    {
     "data": {
      "text/plain": [
       "[('dave', 'B', 10), ('jane', 'B', 12), ('john', 'A', 15)]"
      ]
     },
     "execution_count": 12,
     "metadata": {},
     "output_type": "execute_result"
    }
   ],
   "source": [
    "student_tuples = [\n",
    "    ('john', 'A', 15),\n",
    "    ('jane', 'B', 12),\n",
    "    ('dave', 'B', 10),\n",
    "]\n",
    "sorted(student_tuples, key=lambda student: student[0])"
   ]
  },
  {
   "cell_type": "code",
   "execution_count": null,
   "metadata": {},
   "outputs": [],
   "source": [
    "n=int(input())\n",
    "if n>2:\n",
    "    print(\"si es >2\")\n",
    "elif n == 2:\n",
    "        print(\"es igual a 2\")\n",
    "else:   print (\"es menor a 2\")"
   ]
  },
  {
   "cell_type": "code",
   "execution_count": null,
   "metadata": {},
   "outputs": [
    {
     "name": "stdout",
     "output_type": "stream",
     "text": [
      "1\n",
      "salgo por patas\n",
      "es mayor que 2\n",
      "2\n",
      "salgo por patas\n",
      "es igual que 2\n"
     ]
    }
   ],
   "source": [
    "l1 = [1,2,3,4]\n",
    "t1=(1,2,3,4)\n",
    "s1= {1,2,3,4}\n",
    "d1 = {'a':1,'b':2}\n",
    "for val in d1.values():\n",
    "    print(val)\n",
    "    if val > 0:\n",
    "        print(\"salgo por patas\")\n",
    "        \n",
    "    if val==1 :\n",
    "        print(\"es mayor que 2\")\n",
    "        \n",
    "    elif val == 2:\n",
    "        print(\"es igual que 2\")\n",
    "    else: print(\"es menor o igual que 2\")\n",
    "    \n",
    "        "
   ]
  },
  {
   "cell_type": "code",
   "execution_count": null,
   "metadata": {},
   "outputs": [
    {
     "name": "stdout",
     "output_type": "stream",
     "text": [
      "2\n",
      "2\n",
      "3\n",
      "4\n"
     ]
    }
   ],
   "source": [
    "vari =0\n",
    "l1 =[2,2,3,4]\n",
    "while vari <10:\n",
    "    print(l1[vari])\n",
    "    vari = vari +1\n",
    "    if vari > len(l1)-1:\n",
    "        break"
   ]
  },
  {
   "cell_type": "code",
   "execution_count": null,
   "metadata": {},
   "outputs": [],
   "source": [
    "d1 = {'a':1,'b':3,'c':2}\n",
    "index = 0\n",
    "while index < len(d1):\n",
    "    if val ==0:\n",
    "        print(\"salgo por patas\")\n",
    "        break\n",
    "    if val>2:\n",
    "        print(\"es mayor que 2\")\n",
    "        \n",
    "    else:\n",
    "        print(\"es menor o igual que 2\")"
   ]
  },
  {
   "cell_type": "markdown",
   "metadata": {},
   "source": [
    "- Genera un programa que encuentre el mayor de 3 números en tres variables, usando solo if-elif-else"
   ]
  },
  {
   "cell_type": "code",
   "execution_count": null,
   "metadata": {},
   "outputs": [
    {
     "name": "stdout",
     "output_type": "stream",
     "text": [
      "el mayor es 34\n"
     ]
    }
   ],
   "source": [
    "a=34\n",
    "b=7\n",
    "c=21\n",
    "if a>b and a>c:\n",
    "    print(\"el mayor es\",a)\n",
    "elif b>a and b>c:\n",
    "    print(\"el mayor ea\",b)\n",
    "else: \n",
    "    print (\"el mayor es\",c)"
   ]
  },
  {
   "cell_type": "markdown",
   "metadata": {},
   "source": [
    " Extendiende la lógica anterior para una lista de números"
   ]
  },
  {
   "cell_type": "code",
   "execution_count": null,
   "metadata": {},
   "outputs": [
    {
     "name": "stdout",
     "output_type": "stream",
     "text": [
      "10\n",
      "0\n",
      "10\n",
      "1\n",
      "11\n",
      "2\n",
      "el mayor en a es 11\n"
     ]
    }
   ],
   "source": [
    "a=[10,7,11]\n",
    "i=0\n",
    "mayor=0\n",
    "while i < len(a):\n",
    "    if a[i]>mayor:\n",
    "        mayor = a[i]\n",
    "        \n",
    "    print(mayor)\n",
    "    print(i)    \n",
    "    i=i+1\n",
    "    \n",
    "\n",
    "print(\"el mayor en a es\",mayor)"
   ]
  },
  {
   "cell_type": "markdown",
   "metadata": {},
   "source": [
    "- Extendiende la lógica antarior para un diccionario: {'john':4, 'Anna': 7, 'Peter': 1, 'Riga': 9}"
   ]
  },
  {
   "cell_type": "code",
   "execution_count": null,
   "metadata": {},
   "outputs": [
    {
     "name": "stdout",
     "output_type": "stream",
     "text": [
      "4\n",
      "7\n",
      "7\n",
      "9\n",
      "el mayor en a es 9\n"
     ]
    }
   ],
   "source": [
    "a={'john':4, 'Anna': 7, 'Peter': 1, 'Riga': 9}\n",
    "\n",
    "\n",
    "mayor=0\n",
    "\n",
    "for  key,val in a.items():\n",
    "    if val > mayor:\n",
    "        mayor = val\n",
    "        \n",
    "    print(mayor)\n",
    "\n",
    "    \n",
    "\n",
    "print(\"el mayor en a es\",mayor)\n"
   ]
  },
  {
   "cell_type": "markdown",
   "metadata": {},
   "source": [
    "- La fiesta VIP de John\n",
    "John desea realizar una fiesta VIP; pero el año anterior una persona se coló utilizando el mismo nombre de otra. Y por eso John ha decidido este año que el portero pida el número de documento.\n",
    "El programa deberá tener una lista de dnis aprobados. El portero deberá poder introducir el número de documento de quien solicita entrar a la fiesta y comprobar si existe en la lista. \n",
    "Si está, se muestra un PERMITIDO ENTRAR. Luego debe mostrar cuántas personas de la lista quedan por entrar.\n",
    "Si no está en la lista, deberá indicar NO PERMITIDO y seguir esperando un nuevo documento.\n",
    "Cuando se complete la lista, seberá indicar COMPLETADO y salir.\n",
    "La lista, una vez definida por John, no debe poder modificarse durante el proceso."
   ]
  },
  {
   "cell_type": "code",
   "execution_count": null,
   "metadata": {},
   "outputs": [
    {
     "name": "stdout",
     "output_type": "stream",
     "text": [
      "puede pasar 1\n",
      "quedan por entrar 2\n",
      "[2, 3]\n",
      "puede pasar 2\n",
      "quedan por entrar 1\n",
      "[3]\n",
      "puede pasar 3\n",
      "quedan por entrar 0\n",
      "[]\n",
      "COMPLETADO\n"
     ]
    }
   ],
   "source": [
    "#lista de DNI (tupla)\n",
    "a = (1,2,3)\n",
    "#lista modificable de DNI [lista]\n",
    "d = list(a)\n",
    "\n",
    "while len(d)>0:\n",
    "    b=int(input(\"introduce DNI\"))\n",
    "    if b in d:\n",
    "        print(\"puede pasar\",b)\n",
    "        print(\"quedan por entrar\",len(d)-1)\n",
    "        d.remove(b)\n",
    "        print(d)\n",
    "        if len(d) ==0:\n",
    "            print(\"COMPLETADO\")\n",
    "       \n",
    "    else:\n",
    "        print(\"no puede pasar\",b)\n",
    "        print(\"quedan por entrar\",len(d))\n",
    " "
   ]
  },
  {
   "cell_type": "markdown",
   "metadata": {},
   "source": [
    "primeras_filas = dict(notas_items[:2])"
   ]
  },
  {
   "cell_type": "code",
   "execution_count": 5,
   "metadata": {},
   "outputs": [],
   "source": [
    "notas = {\n",
    "\"Sosanna\": [{'maths': (4, 3)}, {'lang': (5, 5)}], \n",
    "\"Rosalind\": [{'maths': (8, 6)}, {'lang': (10, 5)}], \n",
    "\"Gaspar\": [{'maths': (1, 6)}, {'lang': (7, 5)}], \n",
    "\"Herve\": [{'maths': (2, 5)}, {'lang': (8, 2)}], \n",
    "\"Jayme\": [{'maths': (5, 1)}, {'lang': (10, 7)}], \n",
    "\"Dasya\": [{'maths': (5, 3)}, {'lang': (8, 2)}], \n",
    "\"Christean\": [{'maths': (2, 10)}, {'lang': (3, 6)}], \n",
    "\"Risa\": [{'maths': (9, 9)}, {'lang': (2, 7)}], \n",
    "\"Florenza\": [{'maths': (10, 6)}, {'lang': (5, 5)}], \n",
    "\"Donella\": [{'maths': (10, 3)}, {'lang': (8, 3)}], \n",
    "\"Cesaro\": [{'maths': (2, 4)}, {'lang': (1, 7)}], \n",
    "\"Beatrisa\": [{'maths': (9, 2)}, {'lang': (1, 5)}], \n",
    "\"Thain\": [{'maths': (1, 7)}, {'lang': (6, 3)}], \n",
    "\"Shaylah\": [{'maths': (6, 7)}, {'lang': (2, 1)}], \n",
    "\"Anne-marie\": [{'maths': (4, 6)}, {'lang': (4, 3)}], \n",
    "\"Swen\": [{'maths': (8, 5)}, {'lang': (7, 6)}], \n",
    "\"Vaclav\": [{'maths': (1, 4)}, {'lang': (9, 10)}], \n",
    "\"Hermine\": [{'maths': (2, 1)}, {'lang': (8, 1)}], \n",
    "\"Sybyl\": [{'maths': (10, 2)}, {'lang': (3, 10)}], \n",
    "\"Ynes\": [{'maths': (6, 10)}, {'lang': (3, 2)}], \n",
    "\"Antonie\": [{'maths': (9, 3)}, {'lang': (4, 9)}], \n",
    "\"Trixie\": [{'maths': (9, 10)}, {'lang': (5, 4)}], \n",
    "\"Mathilde\": [{'maths': (4, 5)}, {'lang': (8, 1)}], \n",
    "\"Merlina\": [{'maths': (6, 8)}, {'lang': (4, 6)}], \n",
    "\"Zared\": [{'maths': (1, 9)}, {'lang': (5, 3)}], \n",
    "\"Brandais\": [{'maths': (3, 3)}, {'lang': (7, 1)}], \n",
    "\"Reggie\": [{'maths': (10, 2)}, {'lang': (10, 8)}], \n",
    "\"Burk\": [{'maths': (8, 7)}, {'lang': (5, 5)}], \n",
    "\"Seymour\": [{'maths': (5, 8)}, {'lang': (8, 3)}], \n",
    "\"Fergus\": [{'maths': (2, 3)}, {'lang': (5, 5)}], \n",
    "\"Jeanette\": [{'maths': (1, 5)}, {'lang': (5, 4)}], \n",
    "\"Arther\": [{'maths': (5, 5)}, {'lang': (9, 5)}], \n",
    "\"Avictor\": [{'maths': (9, 2)}, {'lang': (8, 5)}], \n",
    "\"Lynette\": [{'maths': (7, 2)}, {'lang': (10, 6)}], \n",
    "\"Briano\": [{'maths': (2, 2)}, {'lang': (4, 6)}], \n",
    "\"Daveta\": [{'maths': (4, 7)}, {'lang': (2, 9)}], \n",
    "\"Devonne\": [{'maths': (10, 2)}, {'lang': (6, 8)}], \n",
    "\"Chiarra\": [{'maths': (6, 1)}, {'lang': (4, 3)}], \n",
    "\"Torrey\": [{'maths': (2, 9)}, {'lang': (1, 3)}], \n",
    "\"Hattie\": [{'maths': (2, 5)}, {'lang': (7, 2)}], \n",
    "\"Florenza\": [{'maths': (10, 5)}, {'lang': (4, 4)}], \n",
    "\"Veronica\": [{'maths': (8, 6)}, {'lang': (3, 4)}], \n",
    "\"Jared\": [{'maths': (6, 1)}, {'lang': (1, 3)}], \n",
    "\"Lori\": [{'maths': (6, 1)}, {'lang': (10, 10)}], \n",
    "\"Kristopher\": [{'maths': (1, 2)}, {'lang': (4, 9)}], \n",
    "\"Jeanne\": [{'maths': (1, 1)}, {'lang': (1, 4)}], \n",
    "\"Maximilian\": [{'maths': (3, 3)}, {'lang': (10, 9)}], \n",
    "\"Merrily\": [{'maths': (5, 7)}, {'lang': (1, 3)}], \n",
    "\"Skipton\": [{'maths': (9, 6)}, {'lang': (4, 9)}], \n",
    "\"Tom\": [{'maths': (10, 5)}, {'lang': (1, 7)}], \n",
    "\"Cirilo\": [{'maths': (2, 2)}, {'lang': (6, 6)}], \n",
    "\"Warde\": [{'maths': (8, 7)}, {'lang': (9, 5)}], \n",
    "\"Woodie\": [{'maths': (10, 3)}, {'lang': (2, 1)}], \n",
    "\"Odetta\": [{'maths': (3, 7)}, {'lang': (7, 9)}], \n",
    "\"Cordelie\": [{'maths': (2, 3)}, {'lang': (9, 1)}], \n",
    "\"Wilow\": [{'maths': (10, 8)}, {'lang': (2, 6)}], \n",
    "\"Charissa\": [{'maths': (5, 3)}, {'lang': (5, 10)}], \n",
    "\"Ralina\": [{'maths': (10, 9)}, {'lang': (8, 2)}], \n",
    "\"Charisse\": [{'maths': (6, 5)}, {'lang': (1, 9)}], \n",
    "\"Huntley\": [{'maths': (8, 7)}, {'lang': (10, 3)}], \n",
    "\"Ella\": [{'maths': (4, 3)}, {'lang': (6, 8)}], \n",
    "\"Nelli\": [{'maths': (2, 6)}, {'lang': (5, 10)}], \n",
    "\"Gearalt\": [{'maths': (4, 9)}, {'lang': (4, 4)}], \n",
    "\"Zahara\": [{'maths': (2, 1)}, {'lang': (1, 4)}], \n",
    "\"Dilan\": [{'maths': (8, 6)}, {'lang': (7, 6)}], \n",
    "\"Frederique\": [{'maths': (5, 10)}, {'lang': (2, 8)}], \n",
    "\"Saba\": [{'maths': (9, 8)}, {'lang': (9, 9)}], \n",
    "\"Natalya\": [{'maths': (1, 5)}, {'lang': (5, 2)}], \n",
    "\"Myrah\": [{'maths': (3, 8)}, {'lang': (3, 5)}], \n",
    "\"Magnum\": [{'maths': (7, 1)}, {'lang': (2, 9)}], \n",
    "\"Grace\": [{'maths': (9, 4)}, {'lang': (6, 6)}], \n",
    "\"Ilysa\": [{'maths': (10, 9)}, {'lang': (8, 8)}], \n",
    "\"Clerkclaude\": [{'maths': (7, 2)}, {'lang': (10, 2)}], \n",
    "\"Yetty\": [{'maths': (8, 6)}, {'lang': (2, 4)}], \n",
    "\"Cassandre\": [{'maths': (6, 1)}, {'lang': (9, 5)}], \n",
    "\"Olympie\": [{'maths': (3, 3)}, {'lang': (10, 3)}], \n",
    "\"Joshuah\": [{'maths': (7, 7)}, {'lang': (9, 2)}], \n",
    "\"Kristine\": [{'maths': (3, 4)}, {'lang': (7, 7)}], \n",
    "\"Dean\": [{'maths': (8, 6)}, {'lang': (10, 10)}], \n",
    "\"Ilyssa\": [{'maths': (9, 7)}, {'lang': (5, 3)}], \n",
    "\"Nannie\": [{'maths': (6, 9)}, {'lang': (2, 10)}], \n",
    "\"Feodor\": [{'maths': (5, 6)}, {'lang': (3, 7)}], \n",
    "\"Guglielma\": [{'maths': (10, 3)}, {'lang': (9, 6)}], \n",
    "\"Alla\": [{'maths': (9, 10)}, {'lang': (7, 7)}], \n",
    "\"Rowland\": [{'maths': (4, 10)}, {'lang': (8, 7)}], \n",
    "\"Miquela\": [{'maths': (7, 5)}, {'lang': (2, 7)}], \n",
    "\"Sapphira\": [{'maths': (4, 6)}, {'lang': (5, 2)}], \n",
    "\"Zorina\": [{'maths': (3, 2)}, {'lang': (4, 9)}], \n",
    "\"Rosemonde\": [{'maths': (10, 6)}, {'lang': (9, 9)}], \n",
    "\"Alisa\": [{'maths': (1, 4)}, {'lang': (9, 5)}], \n",
    "\"Ginger\": [{'maths': (3, 4)}, {'lang': (1, 2)}], \n",
    "\"Karlis\": [{'maths': (9, 8)}, {'lang': (3, 1)}], \n",
    "\"Robbin\": [{'maths': (7, 5)}, {'lang': (10, 8)}], \n",
    "\"Kimberly\": [{'maths': (3, 7)}, {'lang': (8, 1)}], \n",
    "\"Udale\": [{'maths': (7, 1)}, {'lang': (1, 7)}], \n",
    "\"Isidor\": [{'maths': (8, 2)}, {'lang': (6, 3)}], \n",
    "\"Farlee\": [{'maths': (5, 10)}, {'lang': (9, 9)}], \n",
    "\"Katleen\": [{'maths': (8, 6)}, {'lang': (9, 3)}], \n",
    "\"Nanine\": [{'maths': (5, 7)}, {'lang': (9, 9)}], \n",
    "\"Marlow\": [{'maths': (2, 4)}, {'lang': (5, 2)}]\n",
    "}"
   ]
  },
  {
   "cell_type": "code",
   "execution_count": 6,
   "metadata": {},
   "outputs": [
    {
     "name": "stdout",
     "output_type": "stream",
     "text": [
      "{'Sosanna': [{'maths': (4, 3)}, {'lang': (5, 5)}], 'Rosalind': [{'maths': (8, 6)}, {'lang': (10, 5)}], 'Gaspar': [{'maths': (1, 6)}, {'lang': (7, 5)}], 'Herve': [{'maths': (2, 5)}, {'lang': (8, 2)}], 'Jayme': [{'maths': (5, 1)}, {'lang': (10, 7)}], 'Dasya': [{'maths': (5, 3)}, {'lang': (8, 2)}], 'Christean': [{'maths': (2, 10)}, {'lang': (3, 6)}], 'Risa': [{'maths': (9, 9)}, {'lang': (2, 7)}], 'Florenza': [{'maths': (10, 5)}, {'lang': (4, 4)}], 'Donella': [{'maths': (10, 3)}, {'lang': (8, 3)}], 'Cesaro': [{'maths': (2, 4)}, {'lang': (1, 7)}], 'Beatrisa': [{'maths': (9, 2)}, {'lang': (1, 5)}], 'Thain': [{'maths': (1, 7)}, {'lang': (6, 3)}], 'Shaylah': [{'maths': (6, 7)}, {'lang': (2, 1)}], 'Anne-marie': [{'maths': (4, 6)}, {'lang': (4, 3)}], 'Swen': [{'maths': (8, 5)}, {'lang': (7, 6)}], 'Vaclav': [{'maths': (1, 4)}, {'lang': (9, 10)}], 'Hermine': [{'maths': (2, 1)}, {'lang': (8, 1)}], 'Sybyl': [{'maths': (10, 2)}, {'lang': (3, 10)}], 'Ynes': [{'maths': (6, 10)}, {'lang': (3, 2)}], 'Antonie': [{'maths': (9, 3)}, {'lang': (4, 9)}], 'Trixie': [{'maths': (9, 10)}, {'lang': (5, 4)}], 'Mathilde': [{'maths': (4, 5)}, {'lang': (8, 1)}], 'Merlina': [{'maths': (6, 8)}, {'lang': (4, 6)}], 'Zared': [{'maths': (1, 9)}, {'lang': (5, 3)}], 'Brandais': [{'maths': (3, 3)}, {'lang': (7, 1)}], 'Reggie': [{'maths': (10, 2)}, {'lang': (10, 8)}], 'Burk': [{'maths': (8, 7)}, {'lang': (5, 5)}], 'Seymour': [{'maths': (5, 8)}, {'lang': (8, 3)}], 'Fergus': [{'maths': (2, 3)}, {'lang': (5, 5)}], 'Jeanette': [{'maths': (1, 5)}, {'lang': (5, 4)}], 'Arther': [{'maths': (5, 5)}, {'lang': (9, 5)}], 'Avictor': [{'maths': (9, 2)}, {'lang': (8, 5)}], 'Lynette': [{'maths': (7, 2)}, {'lang': (10, 6)}], 'Briano': [{'maths': (2, 2)}, {'lang': (4, 6)}], 'Daveta': [{'maths': (4, 7)}, {'lang': (2, 9)}], 'Devonne': [{'maths': (10, 2)}, {'lang': (6, 8)}], 'Chiarra': [{'maths': (6, 1)}, {'lang': (4, 3)}], 'Torrey': [{'maths': (2, 9)}, {'lang': (1, 3)}], 'Hattie': [{'maths': (2, 5)}, {'lang': (7, 2)}], 'Veronica': [{'maths': (8, 6)}, {'lang': (3, 4)}], 'Jared': [{'maths': (6, 1)}, {'lang': (1, 3)}], 'Lori': [{'maths': (6, 1)}, {'lang': (10, 10)}], 'Kristopher': [{'maths': (1, 2)}, {'lang': (4, 9)}], 'Jeanne': [{'maths': (1, 1)}, {'lang': (1, 4)}], 'Maximilian': [{'maths': (3, 3)}, {'lang': (10, 9)}], 'Merrily': [{'maths': (5, 7)}, {'lang': (1, 3)}], 'Skipton': [{'maths': (9, 6)}, {'lang': (4, 9)}], 'Tom': [{'maths': (10, 5)}, {'lang': (1, 7)}], 'Cirilo': [{'maths': (2, 2)}, {'lang': (6, 6)}], 'Warde': [{'maths': (8, 7)}, {'lang': (9, 5)}], 'Woodie': [{'maths': (10, 3)}, {'lang': (2, 1)}], 'Odetta': [{'maths': (3, 7)}, {'lang': (7, 9)}], 'Cordelie': [{'maths': (2, 3)}, {'lang': (9, 1)}], 'Wilow': [{'maths': (10, 8)}, {'lang': (2, 6)}], 'Charissa': [{'maths': (5, 3)}, {'lang': (5, 10)}], 'Ralina': [{'maths': (10, 9)}, {'lang': (8, 2)}], 'Charisse': [{'maths': (6, 5)}, {'lang': (1, 9)}], 'Huntley': [{'maths': (8, 7)}, {'lang': (10, 3)}], 'Ella': [{'maths': (4, 3)}, {'lang': (6, 8)}], 'Nelli': [{'maths': (2, 6)}, {'lang': (5, 10)}], 'Gearalt': [{'maths': (4, 9)}, {'lang': (4, 4)}], 'Zahara': [{'maths': (2, 1)}, {'lang': (1, 4)}], 'Dilan': [{'maths': (8, 6)}, {'lang': (7, 6)}], 'Frederique': [{'maths': (5, 10)}, {'lang': (2, 8)}], 'Saba': [{'maths': (9, 8)}, {'lang': (9, 9)}], 'Natalya': [{'maths': (1, 5)}, {'lang': (5, 2)}], 'Myrah': [{'maths': (3, 8)}, {'lang': (3, 5)}], 'Magnum': [{'maths': (7, 1)}, {'lang': (2, 9)}], 'Grace': [{'maths': (9, 4)}, {'lang': (6, 6)}], 'Ilysa': [{'maths': (10, 9)}, {'lang': (8, 8)}], 'Clerkclaude': [{'maths': (7, 2)}, {'lang': (10, 2)}], 'Yetty': [{'maths': (8, 6)}, {'lang': (2, 4)}], 'Cassandre': [{'maths': (6, 1)}, {'lang': (9, 5)}], 'Olympie': [{'maths': (3, 3)}, {'lang': (10, 3)}], 'Joshuah': [{'maths': (7, 7)}, {'lang': (9, 2)}], 'Kristine': [{'maths': (3, 4)}, {'lang': (7, 7)}], 'Dean': [{'maths': (8, 6)}, {'lang': (10, 10)}], 'Ilyssa': [{'maths': (9, 7)}, {'lang': (5, 3)}], 'Nannie': [{'maths': (6, 9)}, {'lang': (2, 10)}], 'Feodor': [{'maths': (5, 6)}, {'lang': (3, 7)}], 'Guglielma': [{'maths': (10, 3)}, {'lang': (9, 6)}], 'Alla': [{'maths': (9, 10)}, {'lang': (7, 7)}], 'Rowland': [{'maths': (4, 10)}, {'lang': (8, 7)}], 'Miquela': [{'maths': (7, 5)}, {'lang': (2, 7)}], 'Sapphira': [{'maths': (4, 6)}, {'lang': (5, 2)}], 'Zorina': [{'maths': (3, 2)}, {'lang': (4, 9)}], 'Rosemonde': [{'maths': (10, 6)}, {'lang': (9, 9)}], 'Alisa': [{'maths': (1, 4)}, {'lang': (9, 5)}], 'Ginger': [{'maths': (3, 4)}, {'lang': (1, 2)}], 'Karlis': [{'maths': (9, 8)}, {'lang': (3, 1)}], 'Robbin': [{'maths': (7, 5)}, {'lang': (10, 8)}], 'Kimberly': [{'maths': (3, 7)}, {'lang': (8, 1)}], 'Udale': [{'maths': (7, 1)}, {'lang': (1, 7)}], 'Isidor': [{'maths': (8, 2)}, {'lang': (6, 3)}], 'Farlee': [{'maths': (5, 10)}, {'lang': (9, 9)}], 'Katleen': [{'maths': (8, 6)}, {'lang': (9, 3)}], 'Nanine': [{'maths': (5, 7)}, {'lang': (9, 9)}], 'Marlow': [{'maths': (2, 4)}, {'lang': (5, 2)}]}\n",
      "[('Sosanna', [{'maths': (4, 3)}, {'lang': (5, 5)}]), ('Rosalind', [{'maths': (8, 6)}, {'lang': (10, 5)}])]\n",
      "{'Sosanna': [{'maths': (4, 3)}, {'lang': (5, 5)}], 'Rosalind': [{'maths': (8, 6)}, {'lang': (10, 5)}]}\n"
     ]
    }
   ],
   "source": [
    "notas1 = list(notas.items())\n",
    "primeras_filas = dict(notas1[:2])\n",
    "\n",
    "print(notas)\n",
    "print(notas1[:2])\n",
    "print(primeras_filas)"
   ]
  },
  {
   "cell_type": "markdown",
   "metadata": {},
   "source": [
    "Genera un programa que permita completar y extraer datos estadísticos de la lista de la siguiente manera: \n",
    "\t1- Completar la nota media de cada alumno por asignatura.\n",
    "\t2- Obtener la media global por asignatura.\n",
    "\t3- Obtener la media global por alumno (de todos y cada uno).\n",
    "\t4- Obtener la media global de todos los alumnos.\n",
    "\t5- Obtener para un alumno determinado, la nota media.\n",
    "\t6- Obtener los alumnos con una nota media superior o igual a un número dado (5).\n",
    "Haz que el programa solicite la opción que quieres ejecutar el prompt"
   ]
  },
  {
   "cell_type": "markdown",
   "metadata": {},
   "source": []
  },
  {
   "cell_type": "code",
   "execution_count": 37,
   "metadata": {},
   "outputs": [
    {
     "name": "stdout",
     "output_type": "stream",
     "text": [
      "{'Sosanna': [{'maths': [4, 3, 3.5]}, {'lang': [5, 5, 5.0]}], 'Rosalind': [{'maths': [8, 6, 7.0]}, {'lang': [10, 5, 7.5]}]}\n"
     ]
    }
   ],
   "source": [
    "notas = {\n",
    "    'Sosanna': [{'maths': (4, 3)}, {'lang': (5, 5)}], \n",
    "    'Rosalind': [{'maths': (8, 6)}, {'lang': (10, 5)}], \n",
    "    'Gaspar': [{'maths': (1, 6)}, {'lang': (7, 5)}]\n",
    "}\n",
    "\n",
    "# Convertir el diccionario a una lista de tuplas (clave, valor)\n",
    "notas_items = list(notas.items())\n",
    "\n",
    "# Extraer las dos primeras filas\n",
    "primeras_filas = dict(notas_items[:2])\n",
    "\n",
    "# Imprimir las primeras filas\n",
    "#print(primeras_filas)\n",
    "\n",
    "# Iterar sobre las primeras filas\n",
    "for alumno, asignaturas in primeras_filas.items():\n",
    "    for asignatura in asignaturas:\n",
    "        #for nombre, (nota1, nota2) in asignatura.items():\n",
    "            #nuevas_notas = {}\n",
    "        nombre_asig = list(asignatura.keys())[0]\n",
    "        notas_asig= list(asignatura.values())[0]\n",
    "        promedio = (notas_asig[0]+notas_asig[1]) / 2\n",
    "        new_notas_asig =list(notas_asig)\n",
    "        new_notas_asig.append(promedio)\n",
    "        asignatura[nombre_asig]=new_notas_asig\n",
    "            #nuevas_notas[nombre + '_promedio'] = promedio\n",
    "        #asignatura.update(nuevas_notas)\n",
    "print(primeras_filas)"
   ]
  },
  {
   "cell_type": "markdown",
   "metadata": {},
   "source": [
    "2- Obtener la media global por asignatura."
   ]
  },
  {
   "cell_type": "code",
   "execution_count": 25,
   "metadata": {},
   "outputs": [
    {
     "name": "stdout",
     "output_type": "stream",
     "text": [
      "{'maths': 5.25, 'lang': 6.25}\n"
     ]
    }
   ],
   "source": [
    "notas = {\n",
    "    'Sosanna': [{'maths': (4, 3)}, {'lang': (5, 5)}], \n",
    "    'Rosalind': [{'maths': (8, 6)}, {'lang': (10, 5)}]\n",
    "}\n",
    "\n",
    "# Inicializar diccionarios para sumar las notas y contar las entradas\n",
    "suma_notas = {}\n",
    "conteo_notas = {}\n",
    "\n",
    "# Iterar sobre cada estudiante y sus asignaturas\n",
    "for asignaturas in notas.values():\n",
    "    for asignatura in asignaturas:\n",
    "        for nombre, notas in asignatura.items():\n",
    "            # Verificar que estamos trabajando con una tupla de notas\n",
    "            if isinstance(notas, tuple):\n",
    "                nota1, nota2 = notas\n",
    "                if nombre not in suma_notas:\n",
    "                    suma_notas[nombre] = 0\n",
    "                    conteo_notas[nombre] = 0\n",
    "                suma_notas[nombre] += nota1 + nota2\n",
    "                conteo_notas[nombre] += 2\n",
    "\n",
    "# Calcular las medias globales\n",
    "medias_globales = {nombre: suma_notas[nombre] / conteo_notas[nombre] for nombre in suma_notas}\n",
    "\n",
    "# Imprimir las medias globales\n",
    "print(medias_globales)"
   ]
  }
 ],
 "metadata": {
  "kernelspec": {
   "display_name": "Python 3 (ipykernel)",
   "language": "python",
   "name": "python3"
  },
  "language_info": {
   "codemirror_mode": {
    "name": "ipython",
    "version": 3
   },
   "file_extension": ".py",
   "mimetype": "text/x-python",
   "name": "python",
   "nbconvert_exporter": "python",
   "pygments_lexer": "ipython3",
   "version": "3.10.11"
  }
 },
 "nbformat": 4,
 "nbformat_minor": 2
}
