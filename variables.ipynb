{
 "cells": [
  {
   "cell_type": "code",
   "execution_count": 12,
   "metadata": {},
   "outputs": [
    {
     "name": "stdout",
     "output_type": "stream",
     "text": [
      "hola mundo122\n",
      "hello1\n"
     ]
    },
    {
     "data": {
      "text/plain": [
       "['hol', ' mundo122']"
      ]
     },
     "execution_count": 12,
     "metadata": {},
     "output_type": "execute_result"
    }
   ],
   "source": [
    "print(\"hola mundo122\")\n",
    "print(\"hello1\")\n",
    "\"hell worl\".title()\n",
    "'a'.join(['s','d'])\n",
    "\"hola mundo122\".split('a')\n"
   ]
  },
  {
   "cell_type": "code",
   "execution_count": null,
   "metadata": {},
   "outputs": [],
   "source": []
  },
  {
   "cell_type": "code",
   "execution_count": 1,
   "metadata": {},
   "outputs": [
    {
     "name": "stdout",
     "output_type": "stream",
     "text": [
      "texto 3\n"
     ]
    },
    {
     "data": {
      "text/plain": [
       "str"
      ]
     },
     "execution_count": 1,
     "metadata": {},
     "output_type": "execute_result"
    }
   ],
   "source": [
    "unnumero = 3\n",
    "untexto = 'texto'\n",
    "print(untexto,unnumero)\n",
    "type(untexto)\n",
    "type(untexto)"
   ]
  },
  {
   "cell_type": "code",
   "execution_count": 8,
   "metadata": {},
   "outputs": [
    {
     "name": "stdout",
     "output_type": "stream",
     "text": [
      "(7.3+2j)\n"
     ]
    },
    {
     "data": {
      "text/plain": [
       "complex"
      ]
     },
     "execution_count": 8,
     "metadata": {},
     "output_type": "execute_result"
    }
   ],
   "source": [
    "otronumero = 4.3+2j\n",
    "resultado =unnumero + otronumero\n",
    "print(resultado)\n",
    "unbooleano =True\n",
    "complex = 3 + 2j\n",
    "type(otronumero)\n",
    "\n"
   ]
  },
  {
   "cell_type": "code",
   "execution_count": 5,
   "metadata": {},
   "outputs": [
    {
     "name": "stdout",
     "output_type": "stream",
     "text": [
      "es texto\n"
     ]
    }
   ],
   "source": [
    "print(\"es\",untexto)"
   ]
  },
  {
   "cell_type": "code",
   "execution_count": 1,
   "metadata": {},
   "outputs": [
    {
     "name": "stdout",
     "output_type": "stream",
     "text": [
      "lo que escribe es 3\n"
     ]
    },
    {
     "data": {
      "text/plain": [
       "int"
      ]
     },
     "execution_count": 1,
     "metadata": {},
     "output_type": "execute_result"
    }
   ],
   "source": [
    "entrada = int(input(\"escribe algo\"))\n",
    "print(\"lo que escribe es\", entrada)\n",
    "type (entrada)"
   ]
  },
  {
   "cell_type": "code",
   "execution_count": 2,
   "metadata": {},
   "outputs": [
    {
     "name": "stdout",
     "output_type": "stream",
     "text": [
      "<class 'list'> [1, 'tes', 3]\n",
      "(1, 'tres', 2)\n"
     ]
    }
   ],
   "source": [
    "unalista = [1,\"texto\",3]\n",
    "unalista[1]=\"tes\"\n",
    "print(type(unalista),unalista)\n",
    "unatupla = (1,\"tres\",2)\n",
    "print (unatupla)\n"
   ]
  },
  {
   "cell_type": "code",
   "execution_count": 9,
   "metadata": {},
   "outputs": [
    {
     "name": "stdout",
     "output_type": "stream",
     "text": [
      "[(1, 'perro'), (2, 'gato'), (3, 'leon')]\n"
     ]
    }
   ],
   "source": [
    "unconjunto = {1,2,3}\n",
    "untupla = (\"perro\",\"gato\",\"leon\")\n",
    "u= list(zip(unconjunto,untupla))\n",
    "print(u)"
   ]
  },
  {
   "cell_type": "code",
   "execution_count": 10,
   "metadata": {},
   "outputs": [
    {
     "name": "stdout",
     "output_type": "stream",
     "text": [
      "[1, 2, 3]\n",
      "2\n",
      "tes\n"
     ]
    }
   ],
   "source": [
    "untupla = [1,2,3]\n",
    "print(untupla)\n",
    "print(untupla[1])\n",
    "untupla[1]= \"tes\"\n",
    "print(untupla[1])"
   ]
  },
  {
   "cell_type": "code",
   "execution_count": 17,
   "metadata": {},
   "outputs": [
    {
     "name": "stdout",
     "output_type": "stream",
     "text": [
      "{1, 2, 3}\n",
      "1 True\n"
     ]
    },
    {
     "data": {
      "text/plain": [
       "{'uno': 1, 'dos': True}"
      ]
     },
     "execution_count": 17,
     "metadata": {},
     "output_type": "execute_result"
    }
   ],
   "source": [
    "unconjunto = {1,2,3}\n",
    "print(unconjunto)\n",
    "undic = dict ([(\"uno\",1),(\"dos\",True)])\n",
    "print(undic[\"uno\"],undic[\"dos\"])\n",
    "type(undic)\n",
    "undic"
   ]
  },
  {
   "cell_type": "markdown",
   "metadata": {},
   "source": [
    "Define una variable con valores que se te ocurran e identifica sus tipos. Por ejemplo, números, textos, listas, tuplas, conjuntos, etc. \n"
   ]
  },
  {
   "cell_type": "code",
   "execution_count": 19,
   "metadata": {},
   "outputs": [
    {
     "name": "stdout",
     "output_type": "stream",
     "text": [
      "{1, 2, 'hola'} [1, 2, 'tres'] (3, 4, 'cinco') {'a': 3, 'b': 8}\n",
      "<class 'set'> <class 'list'> <class 'tuple'> <class 'dict'>\n"
     ]
    }
   ],
   "source": [
    "conj = {1,2,\"hola\", }\n",
    "lista = [1,2,\"tres\"]\n",
    "tupla = (3,4,\"cinco\")\n",
    "dictio = {'a':3,'b':8}\n",
    "print(conj, lista,tupla, dictio)\n",
    "print(type(conj), type(lista),type(tupla), type(dictio))"
   ]
  },
  {
   "cell_type": "markdown",
   "metadata": {},
   "source": [
    "- Crea una tupla que contenga algunos nombres de mascota"
   ]
  },
  {
   "cell_type": "code",
   "execution_count": 27,
   "metadata": {},
   "outputs": [],
   "source": [
    "tupla = (\"boby\",\"pepe\",\"pichi\")"
   ]
  },
  {
   "cell_type": "markdown",
   "metadata": {},
   "source": [
    " Crea un diccionario \"mascotas\", que contenga el nombre y tipo de animal de cada mascota"
   ]
  },
  {
   "cell_type": "code",
   "execution_count": 28,
   "metadata": {},
   "outputs": [],
   "source": [
    "mascotas = {\"boby\":\"perro\",\"pepe\":\"gato\",\"pichi\":\"leon\"}"
   ]
  },
  {
   "cell_type": "markdown",
   "metadata": {},
   "source": [
    "- Crea una lista de mascotas en la que cada item contenga nombre, tipo, edad y peso de la mascota"
   ]
  },
  {
   "cell_type": "code",
   "execution_count": 42,
   "metadata": {},
   "outputs": [
    {
     "name": "stdout",
     "output_type": "stream",
     "text": [
      "[{'nombre': 'karl', 'tipo': 'leon', 'edad': 3, 'peso': 1}, {'nombre': 'pepe', 'tipo': 'gato', 'edad': 2, 'peso': 10}]\n",
      "[{'nombre': 'jon', 'tipo': 'perro', 'edad': 1, 'peso': 15}]\n",
      "{'nombre': 'karl', 'tipo': 'leon', 'edad': 3, 'peso': 1}\n",
      "{'nombre': 'pepe', 'tipo': 'gato', 'edad': 2, 'peso': 10}\n",
      "pepe\n"
     ]
    }
   ],
   "source": [
    "\n",
    "leon = {\"nombre\": \"karl\",\"tipo\": \"leon\",\"edad\":3,\"peso\":1}\n",
    "gato = {\"nombre\": \"pepe\",\"tipo\": \"gato\",\"edad\":2,\"peso\":10}\n",
    "perro = {\"nombre\": \"jon\" ,\"tipo\": \"perro\" ,\"edad\":1,\"peso\":15}\n",
    "unaseccion = [leon, gato]\n",
    "dosseccion = [perro]\n",
    "veterinaria = {\"1\": unaseccion,\"2\": dosseccion}\n",
    "\n",
    "print(veterinaria[\"1\"])\n",
    "print(veterinaria[\"2\"])\n",
    "print(veterinaria[\"1\"][0])\n",
    "print(veterinaria[\"1\"][1])\n",
    "print(veterinaria[\"1\"][1][\"nombre\"])"
   ]
  },
  {
   "cell_type": "code",
   "execution_count": 44,
   "metadata": {},
   "outputs": [
    {
     "name": "stdout",
     "output_type": "stream",
     "text": [
      "-2 2\n"
     ]
    }
   ],
   "source": [
    "m = 2\n",
    "n = 4\n",
    "r = (m-n) * 3\n",
    "r\n",
    "rr = r//4\n",
    "rrr = r%4\n",
    "print(rr,rrr)"
   ]
  },
  {
   "cell_type": "code",
   "execution_count": 52,
   "metadata": {},
   "outputs": [
    {
     "name": "stdout",
     "output_type": "stream",
     "text": [
      "140486569004224 140486569117248\n"
     ]
    },
    {
     "data": {
      "text/plain": [
       "False"
      ]
     },
     "execution_count": 52,
     "metadata": {},
     "output_type": "execute_result"
    }
   ],
   "source": [
    "\"data\" in \"data mundo\"\n",
    "l1 = [1,2,3]\n",
    "6 in l1\n",
    "m = [1]\n",
    "n = [1]\n",
    "print (id(m), id(n))\n",
    "m is n"
   ]
  },
  {
   "cell_type": "code",
   "execution_count": 41,
   "metadata": {},
   "outputs": [
    {
     "name": "stdout",
     "output_type": "stream",
     "text": [
      "['s', 'c', 'i', 'e', 'n', 'c', 'e'] ('s', 'c', 'i', 'e', 'n', 'c', 'e') {'e', 'n', 's', 'c', 'i'} {'g': 1}\n"
     ]
    },
    {
     "data": {
      "text/plain": [
       "'HOLA'"
      ]
     },
     "execution_count": 41,
     "metadata": {},
     "output_type": "execute_result"
    }
   ],
   "source": [
    "x = \"science\"\n",
    "a = list(x)\n",
    "b = tuple(x)\n",
    "c = set(x)\n",
    "d = dict ([(\"g\",1)])\n",
    "print (a,b,c,d)\n",
    "\"hola\".upper()"
   ]
  },
  {
   "cell_type": "code",
   "execution_count": 83,
   "metadata": {},
   "outputs": [
    {
     "name": "stdout",
     "output_type": "stream",
     "text": [
      "<class 'str'>\n",
      "<class 'list'>\n",
      "<class 'str'>\n"
     ]
    },
    {
     "data": {
      "text/plain": [
       "'hola_mundo'"
      ]
     },
     "execution_count": 83,
     "metadata": {},
     "output_type": "execute_result"
    }
   ],
   "source": [
    "l1 = \"hola mundo\"\n",
    "l2 = l1.replace(\"o\",\"x\")\n",
    "print(type (l2))\n",
    "l2 = l1.split(\" \")\n",
    "print(type (l2))\n",
    "l2 = \"_\".join(l2)\n",
    "print(type (l2))\n",
    "l2"
   ]
  },
  {
   "cell_type": "code",
   "execution_count": 85,
   "metadata": {},
   "outputs": [
    {
     "data": {
      "text/plain": [
       "(2, 3)"
      ]
     },
     "execution_count": 85,
     "metadata": {},
     "output_type": "execute_result"
    }
   ],
   "source": [
    "t1 = (1,2,3)\n",
    "s1 = {1,2,3}\n",
    "l1 = list(t1)\n",
    "l2 = list(s1)\n",
    "l1 [1], l2[-1]\n"
   ]
  },
  {
   "cell_type": "code",
   "execution_count": 87,
   "metadata": {},
   "outputs": [
    {
     "data": {
      "text/plain": [
       "[1, 2, 3]"
      ]
     },
     "execution_count": 87,
     "metadata": {},
     "output_type": "execute_result"
    }
   ],
   "source": [
    "l1[0:len(l1)]"
   ]
  },
  {
   "cell_type": "code",
   "execution_count": 96,
   "metadata": {},
   "outputs": [
    {
     "name": "stdout",
     "output_type": "stream",
     "text": [
      "[2, 5]\n"
     ]
    }
   ],
   "source": [
    "l1 =[1,2,3,4,5,6,7,8]\n",
    "ii = 1\n",
    "iu = 5\n",
    "sa = 3\n",
    "print(l1[ii:iu:sa])\n",
    "\n",
    "\n"
   ]
  },
  {
   "cell_type": "code",
   "execution_count": 107,
   "metadata": {},
   "outputs": [
    {
     "data": {
      "text/plain": [
       "[1, 'holA', 2, 4, 'l', 's', 3, 4]"
      ]
     },
     "execution_count": 107,
     "metadata": {},
     "output_type": "execute_result"
    }
   ],
   "source": [
    "l1 = [1,2]\n",
    "l2 = [3,4]\n",
    "l1.append(4)\n",
    "l1\n",
    "l3 = [\"l\",\"s\"]\n",
    "l1.extend(l3)\n",
    "l1.insert(1,\"holA\")\n",
    "l1+l2"
   ]
  },
  {
   "cell_type": "code",
   "execution_count": 36,
   "metadata": {},
   "outputs": [
    {
     "data": {
      "text/plain": [
       "[1,\n",
       " 1,\n",
       " 2,\n",
       " 3,\n",
       " 4,\n",
       " 4,\n",
       " 4,\n",
       " 4,\n",
       " 4,\n",
       " 'l',\n",
       " 's',\n",
       " 4,\n",
       " 'l',\n",
       " 's',\n",
       " 4,\n",
       " 'l',\n",
       " 's',\n",
       " 4,\n",
       " 'l',\n",
       " 's',\n",
       " 4,\n",
       " 'l',\n",
       " 's']"
      ]
     },
     "execution_count": 36,
     "metadata": {},
     "output_type": "execute_result"
    }
   ],
   "source": [
    "l1.insert(0,1)\n",
    "l1"
   ]
  },
  {
   "cell_type": "code",
   "execution_count": 109,
   "metadata": {},
   "outputs": [
    {
     "name": "stdout",
     "output_type": "stream",
     "text": [
      "3 [1, 2, 4, 5]\n"
     ]
    }
   ],
   "source": [
    "l1 = [1,2,3,4,5]\n",
    "e = l1.pop(2)\n",
    "print(e,l1)"
   ]
  },
  {
   "cell_type": "code",
   "execution_count": 39,
   "metadata": {},
   "outputs": [
    {
     "data": {
      "text/plain": [
       "[1, 2, 3, 4]"
      ]
     },
     "execution_count": 39,
     "metadata": {},
     "output_type": "execute_result"
    }
   ],
   "source": [
    "l1"
   ]
  },
  {
   "cell_type": "code",
   "execution_count": 26,
   "metadata": {},
   "outputs": [
    {
     "name": "stdout",
     "output_type": "stream",
     "text": [
      "{'b', 1}\n"
     ]
    }
   ],
   "source": [
    "l1 = {0,1,2,3}\n",
    "l2 = {'a', 'b','c',\"a\",\"a\",1}\n",
    "try:\n",
    "    l1>l2\n",
    "except:\n",
    "    print(\"error\")\n",
    "l3 = {1,2,3,4}\n",
    "l4=[1,4,2,5,3]\n",
    "\n",
    "s3 = l1.difference(l3)\n",
    "s4 = l1.intersection(l3)\n",
    "s5 = l1.symmetric_difference(l3)\n",
    "s3, s4, s5\n",
    "l4.sort(reverse=True)\n",
    "l4\n",
    "l2.pop()\n",
    "l2.pop()\n",
    "print (l2)"
   ]
  },
  {
   "cell_type": "code",
   "execution_count": 20,
   "metadata": {},
   "outputs": [
    {
     "name": "stdout",
     "output_type": "stream",
     "text": [
      "['lunes', 'martes'] [1, 2] [('lunes', 1), ('martes', 2)]\n",
      "no existe\n",
      "{'lunes': 1, 'mircoles': 6}\n"
     ]
    }
   ],
   "source": [
    "dict1 = {\"lunes\":1,\"martes\":2}\n",
    "key= list(dict1.keys())\n",
    "val= list(dict1.values())\n",
    "item = list(dict1.items())\n",
    "print(key,val,item)\n",
    "dict1[\"mircoles\"] =6\n",
    "dict1.pop(\"martes\")\n",
    "print(dict1.get(\"martes\",\"no existe\"))\n",
    "print(dict1)\n"
   ]
  },
  {
   "cell_type": "code",
   "execution_count": 101,
   "metadata": {},
   "outputs": [
    {
     "name": "stdout",
     "output_type": "stream",
     "text": [
      "False\n"
     ]
    }
   ],
   "source": [
    "# Definir la lista de números\n",
    "numeros = [1, 2, 3, 4, 5, 6, 7, 8, 9, 10]\n",
    "\n",
    "# Pedir al usuario que ingrese un número\n",
    "numero_usuario = int(input(\"Introduce un número: \"))\n",
    "\n",
    "# Verificar si el número está en la lista\n",
    "esta_en_lista = numero_usuario in numeros\n",
    "\n",
    "# Mostrar el resultado\n",
    "print(esta_en_lista)"
   ]
  },
  {
   "cell_type": "code",
   "execution_count": 108,
   "metadata": {},
   "outputs": [
    {
     "name": "stdout",
     "output_type": "stream",
     "text": [
      "El sueldo mensual es: 2.0\n"
     ]
    }
   ],
   "source": [
    "# Solicitar al usuario la cantidad de horas trabajadas\n",
    "horas_trabajadas = float(input(\"Introduce la cantidad de horas trabajadas: \"))\n",
    "\n",
    "# Solicitar al usuario el valor por hora\n",
    "valor_por_hora = float(input(\"Introduce el valor por hora: \"))\n",
    "\n",
    "# Calcular el sueldo mensual\n",
    "sueldo_mensual = horas_trabajadas * valor_por_hora\n",
    "\n",
    "# Mostrar el resultado\n",
    "print(f\"El sueldo mensual es: {sueldo_mensual}\")"
   ]
  },
  {
   "cell_type": "code",
   "execution_count": 28,
   "metadata": {},
   "outputs": [
    {
     "name": "stdout",
     "output_type": "stream",
     "text": [
      "El mayor número es: 45\n",
      "{1, 2, 3, 45}\n"
     ]
    }
   ],
   "source": [
    "# Solicitar al usuario que ingrese los números separados por comas\n",
    "numeros_entrada = input(\"Introduce los números separados por comas: \")\n",
    "\n",
    "# Convertir la cadena de entrada en una lista de números\n",
    "numeros = {int(x) for x in numeros_entrada.split(\",\")}\n",
    "\n",
    "# Identificar el mayor número de la lista\n",
    "mayor_numero = max(numeros)\n",
    "\n",
    "# Mostrar el resultado\n",
    "print(\"El mayor número es:\", mayor_numero)\n",
    "print(numeros)"
   ]
  },
  {
   "cell_type": "code",
   "execution_count": 27,
   "metadata": {},
   "outputs": [
    {
     "name": "stdout",
     "output_type": "stream",
     "text": [
      "La cantidad de valores únicos es: 7\n"
     ]
    }
   ],
   "source": [
    "# Definir la lista de valores\n",
    "valores = [1, 2, 2, 3, 4, 4, 4, 5, 6, 6, 7]\n",
    "\n",
    "# Convertir la lista a un conjunto para obtener los valores únicos\n",
    "valores_unicos = set(valores)\n",
    "\n",
    "# Contar los valores únicos\n",
    "cantidad_valores_unicos = len(valores_unicos)\n",
    "\n",
    "# Mostrar el resultado\n",
    "print(\"La cantidad de valores únicos es:\",cantidad_valores_unicos)"
   ]
  },
  {
   "cell_type": "code",
   "execution_count": 26,
   "metadata": {},
   "outputs": [
    {
     "name": "stdout",
     "output_type": "stream",
     "text": [
      "El valor de la clave en la segunda posición ( b ) es: 2\n"
     ]
    }
   ],
   "source": [
    "# Definir un diccionario de ejemplo\n",
    "coleccion = {'a': 1, 'b': 2, 'c': 3, 'd': 4}\n",
    "\n",
    "# Obtener las claves del diccionario como una lista\n",
    "claves = list(coleccion.keys())\n",
    "\n",
    "# Obtener la clave en la segunda posición\n",
    "clave_segunda_posicion = claves[1]\n",
    "\n",
    "# Obtener el valor correspondiente a esa clave\n",
    "valor_segunda_posicion = coleccion[clave_segunda_posicion]\n",
    "\n",
    "# Mostrar el resultado\n",
    "print(\"El valor de la clave en la segunda posición (\", clave_segunda_posicion,\") es:\", valor_segunda_posicion)"
   ]
  },
  {
   "cell_type": "code",
   "execution_count": null,
   "metadata": {},
   "outputs": [],
   "source": [
    "# Número en lista\n",
    "list1 = [1,2,3,4,5]\n",
    "try:\n",
    "    val = int(input(\"num:\"))\n",
    "    print('Está:',val in list1)\n",
    "except:\n",
    "    print('Debe ser un número!')\n",
    "Debe ser un número!\n",
    "# Suledo medio\n",
    "try:\n",
    "    horas = int(input('Horas:'))\n",
    "    pph = float(input('pph:'))\n",
    "    sa = horas * pph\n",
    "    smm = sa / 12\n",
    "    print('Sueldo medio mensual:', smm)\n",
    "except:\n",
    "    print('Deben ser números!')\n",
    "# Número mayor\n",
    "txtlista = input('lista separada por \",\":')\n",
    "lista = txtlista.split(',')\n",
    "print('El mayor es:',max(lista))\n",
    "El mayor es: o\n",
    "# Num valores únicos\n",
    "lista = [1, 2, 3, 4, 5, 4, 3, 2, 1]\n",
    "s1 = set(lista)\n",
    "print('Número de elementos diferentes:',len(s1))\n",
    "# Valor 2º posicion\n",
    "unDict = {'primero':1, 'segundo': 2, 'tercero':3}\n",
    "claves = list(unDict.keys());\n",
    "segundo = unDict.get(claves[1])\n",
    "print('El segundo:',segundo)"
   ]
  },
  {
   "cell_type": "markdown",
   "metadata": {},
   "source": [
    " Escribe un programa que almacene internamente una lista de números, pida al usuario un número e indique si está en la lista con un True o False."
   ]
  },
  {
   "cell_type": "code",
   "execution_count": 135,
   "metadata": {},
   "outputs": [
    {
     "name": "stdout",
     "output_type": "stream",
     "text": [
      "False\n"
     ]
    }
   ],
   "source": [
    "l = [1,2,3]\n",
    "try:\n",
    "    x = int(input(\"escribe un numero:\"))\n",
    "    print(x in l)\n",
    "except:\n",
    "    print(\"debe ser un numero\")"
   ]
  },
  {
   "cell_type": "markdown",
   "metadata": {},
   "source": [
    " Calcular el sueldo mensual de un operario conociendo la cantidad de horas trabajadas y el valor por hora. Estos valores se deberán solicitar al usuario."
   ]
  },
  {
   "cell_type": "code",
   "execution_count": 143,
   "metadata": {},
   "outputs": [
    {
     "name": "stdout",
     "output_type": "stream",
     "text": [
      "sueldo medio mensual 0.5\n"
     ]
    }
   ],
   "source": [
    "try: \n",
    "    a = int(input(\"horas:\"))\n",
    "    b = int(input(\"salario por hora\"))\n",
    "    print(\"sueldo medio mensual\",a*b/12)\n",
    "except:\n",
    "    print(\"deben ser numeros\")\n"
   ]
  },
  {
   "cell_type": "markdown",
   "metadata": {},
   "source": [
    "- Dados N números, separados por \",\" ingresados por el usuario en una sola entrada, identifica cuál es el mayor de todos."
   ]
  },
  {
   "cell_type": "code",
   "execution_count": 161,
   "metadata": {},
   "outputs": [
    {
     "name": "stdout",
     "output_type": "stream",
     "text": [
      "el mayor es: 3\n"
     ]
    }
   ],
   "source": [
    "a = input('lista separada por \",\"')\n",
    "b = list(a.split(\",\"))\n",
    "print(\"el mayor es:\", max(b))\n"
   ]
  },
  {
   "cell_type": "markdown",
   "metadata": {},
   "source": [
    "- Dada una lista, escribe un programa que cuente los valores únicos."
   ]
  },
  {
   "cell_type": "code",
   "execution_count": 166,
   "metadata": {},
   "outputs": [
    {
     "data": {
      "text/plain": [
       "5"
      ]
     },
     "execution_count": 166,
     "metadata": {},
     "output_type": "execute_result"
    }
   ],
   "source": [
    "l=[1,2,3,4,4,5,]\n",
    "s=set(l)\n",
    "len(s)"
   ]
  },
  {
   "cell_type": "markdown",
   "metadata": {},
   "source": [
    " Dada una diccionario cualquiera, muestra el valor de la clave en segunda posición."
   ]
  },
  {
   "cell_type": "code",
   "execution_count": 173,
   "metadata": {},
   "outputs": [
    {
     "data": {
      "text/plain": [
       "'segundo'"
      ]
     },
     "execution_count": 173,
     "metadata": {},
     "output_type": "execute_result"
    }
   ],
   "source": [
    "unDict = {'primero':1, 'segundo': 2, 'tercero':3}\n",
    "claves = list(unDict.keys())\n",
    "claves[1]"
   ]
  }
 ],
 "metadata": {
  "kernelspec": {
   "display_name": "Python 3 (ipykernel)",
   "language": "python",
   "name": "python3"
  }
 },
 "nbformat": 4,
 "nbformat_minor": 2
}
