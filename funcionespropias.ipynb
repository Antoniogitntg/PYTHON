{
 "cells": [
  {
   "cell_type": "code",
   "execution_count": 83,
   "metadata": {},
   "outputs": [
    {
     "name": "stdout",
     "output_type": "stream",
     "text": [
      "eses\n",
      "12\n"
     ]
    }
   ],
   "source": [
    "txto =\"ese\"\n",
    "numero =2\n",
    "def imprimetexto(texto,num):\n",
    "        texto = texto +\"s\"\n",
    "        print(texto)\n",
    "        num = num + 10\n",
    "        print (num)\n",
    "\n",
    "imprimetexto(txto, numero)"
   ]
  },
  {
   "cell_type": "code",
   "execution_count": 100,
   "metadata": {},
   "outputs": [
    {
     "name": "stdout",
     "output_type": "stream",
     "text": [
      "TOTAL la comision es 390.0\n",
      "luis la comision es 70.0\n",
      "pepe la comision es 20.0\n",
      "marcos la comision es 300.0\n"
     ]
    }
   ],
   "source": [
    "def calculo_comision(ventas,porc):\n",
    "    comision=sum(ventas)*porc/100\n",
    "    return comision\n",
    "def imprimir(nombre, comision):\n",
    "    print(nombre,\"la comision es\",comision)\n",
    "def generainform(nombre1,valorventa,porcentaje):\n",
    "    comision1=calculo_comision(valorventa,porcentaje)\n",
    "    imprimir(nombre1,comision1)\n",
    "\n",
    "ventas_reales= [700,200,3000]\n",
    "porcentaje =10\n",
    "valor=calculo_comision(ventas_reales,porcentaje)\n",
    "imprimir (\"TOTAL\",valor)\n",
    "todas_las_ventas= {\n",
    "    \"luis\":[100,200,400],\n",
    "    \"pepe\":[100,50,50],\n",
    "    \"marcos\":[1000,1000,1000]\n",
    "    }\n",
    "for nombre,venta in todas_las_ventas.items():\n",
    "    generainform(nombre,venta,porcentaje)  "
   ]
  },
  {
   "cell_type": "code",
   "execution_count": 71,
   "metadata": {},
   "outputs": [
    {
     "name": "stdout",
     "output_type": "stream",
     "text": [
      "[1, 2, 3] [1, 2, 3, 4]\n"
     ]
    }
   ],
   "source": [
    "l1= [1,2,3]\n",
    "def addelemlista(unalista):\n",
    "    interno = list(unalista)\n",
    "    interno.append(4)\n",
    "    return interno\n",
    "\n",
    "l2 = addelemlista(l1)\n",
    "print(l1,l2)\n",
    "\n"
   ]
  },
  {
   "cell_type": "code",
   "execution_count": 101,
   "metadata": {},
   "outputs": [
    {
     "name": "stdout",
     "output_type": "stream",
     "text": [
      "3\n"
     ]
    }
   ],
   "source": [
    "def suma(a,b):\n",
    "    return a+b\n",
    "val=suma(1,2)\n",
    "print(val)"
   ]
  },
  {
   "cell_type": "code",
   "execution_count": 110,
   "metadata": {},
   "outputs": [
    {
     "name": "stdout",
     "output_type": "stream",
     "text": [
      "(1, 2, 3, 4)\n",
      "2 4 6 8\n",
      "(1, 2, 3, 4)\n"
     ]
    }
   ],
   "source": [
    "def suma2(*ar):\n",
    "    a,b,c,d = ar\n",
    "    print(ar)\n",
    "    return (a*2,b*2,c*2,d*2)\n",
    "\n",
    "a,b,c,d=suma2(1,2,3,4)\n",
    "print(a,b,c,d)\n",
    "\n",
    "def suma1(*ar):\n",
    "    for x in ar:\n",
    "        print(x)\n",
    "    \n",
    "\n",
    "z=(1,2,3,4)\n",
    "suma1(z)"
   ]
  },
  {
   "cell_type": "code",
   "execution_count": 112,
   "metadata": {},
   "outputs": [
    {
     "name": "stdout",
     "output_type": "stream",
     "text": [
      "{'a': 1, 'b': 2, 'c': 3}\n",
      "(1, 2, 3)\n"
     ]
    }
   ],
   "source": [
    "def suma4(**args):\n",
    "    print(args)\n",
    "suma4(a=1, b=2, c=3)\n",
    "def suma3(*args):\n",
    "    print(args)\n",
    "suma3(1,2,3)"
   ]
  },
  {
   "cell_type": "code",
   "execution_count": 113,
   "metadata": {},
   "outputs": [
    {
     "name": "stdout",
     "output_type": "stream",
     "text": [
      "1 0 2\n",
      "1 0 0\n"
     ]
    }
   ],
   "source": [
    "def suma5(a, c =0, b=0):\n",
    "    print(a,b,c)\n",
    "suma5(1,2)\n",
    "suma5(1)"
   ]
  },
  {
   "cell_type": "code",
   "execution_count": 115,
   "metadata": {},
   "outputs": [
    {
     "name": "stdout",
     "output_type": "stream",
     "text": [
      "4 8\n"
     ]
    }
   ],
   "source": [
    "def cuadrado (n):\n",
    "    return n**2\n",
    "cuadradoL= lambda n:n**3\n",
    "a=cuadrado(2)\n",
    "b=cuadradoL(2)\n",
    "print(a,b)"
   ]
  },
  {
   "cell_type": "code",
   "execution_count": 117,
   "metadata": {},
   "outputs": [
    {
     "name": "stdout",
     "output_type": "stream",
     "text": [
      "4 6\n"
     ]
    }
   ],
   "source": [
    "unnum = 2\n",
    "def funcespecial(num,unafuncion):\n",
    "        res= unafuncion(num)\n",
    "        return res\n",
    "\n",
    "def mifuncion(val):\n",
    "    return val*2\n",
    "x=funcespecial(unnum,mifuncion)\n",
    "y=funcespecial(unnum,lambda x:x*3)\n",
    "print(x,y)"
   ]
  },
  {
   "cell_type": "markdown",
   "metadata": {},
   "source": [
    "Implementa un función que verifique si una palabra dada es un palíndromo (se lee igual adelante o atrás).\n",
    "\n",
    "- Escribe una expresión lambda que eleve al cubo todos los números de la lista siguiente: [1,2,3,4,5,6,7,8], usando la función map\n",
    " "
   ]
  },
  {
   "cell_type": "code",
   "execution_count": 121,
   "metadata": {},
   "outputs": [
    {
     "data": {
      "text/plain": [
       "False"
      ]
     },
     "execution_count": 121,
     "metadata": {},
     "output_type": "execute_result"
    }
   ],
   "source": [
    "def func(palabra):\n",
    "    return palabra == palabra[::-1]\n",
    "    print()\n",
    "apa=input(\"introduce palabra\")\n",
    "func(apa)"
   ]
  },
  {
   "cell_type": "markdown",
   "metadata": {},
   "source": [
    "Implementa un función que reciba una serie de números como parámetro y determine cuantos impares hay en ella."
   ]
  },
  {
   "cell_type": "code",
   "execution_count": 119,
   "metadata": {},
   "outputs": [
    {
     "data": {
      "text/plain": [
       "5"
      ]
     },
     "execution_count": 119,
     "metadata": {},
     "output_type": "execute_result"
    }
   ],
   "source": [
    "def func(*arg):\n",
    "    arg =list(arg)\n",
    "\n",
    "    n=0\n",
    "    for i in arg:\n",
    "        if i%2!=0:\n",
    "            n=n+1\n",
    "        \n",
    "    return n\n",
    "\n",
    "\n",
    "func(1,2,3,4,5,5,7)\n"
   ]
  },
  {
   "cell_type": "markdown",
   "metadata": {},
   "source": [
    "Dada una lista de alumnos, donde cada alumno es un dictionario con \"nombre, direccion y edad\"; implementa una solución basada en funciones que transforme la letra intermedia (o más cercana al centro) del nombre de cada alumno en mayúscula y el resto en minúsculas."
   ]
  },
  {
   "cell_type": "code",
   "execution_count": 132,
   "metadata": {},
   "outputs": [
    {
     "data": {
      "text/plain": [
       "[{'nombre': 'alVaro', 'direccion': 'calle...', 'edad': 38},\n",
       " {'nombre': 'pEpe', 'direccion': 'avenida...', 'edad': 35}]"
      ]
     },
     "execution_count": 132,
     "metadata": {},
     "output_type": "execute_result"
    }
   ],
   "source": [
    "a = [ {\"nombre\":\"alvaro\",\"direccion\":\"calle...\",\"edad\":38},{\"nombre\":\"pepe\",\"direccion\":\"avenida...\",\"edad\":35}]\n",
    "def transformar_nombre(nombre):\n",
    "    nombre = nombre.lower()  # Convertir todo el nombre a minúsculas\n",
    "    longitud = len(nombre)\n",
    "    if longitud % 2 == 0:\n",
    "        # Si la longitud es par, tomar la letra más cercana al centro (la primera de las dos centrales)\n",
    "        indice_central = longitud // 2 - 1\n",
    "    else:\n",
    "        # Si la longitud es impar, tomar la letra central\n",
    "        indice_central = longitud // 2\n",
    "    \n",
    "    # Transformar la letra central a mayúscula\n",
    "    nombre_transformado = nombre[:indice_central] + nombre[indice_central].upper() + nombre[indice_central + 1:]\n",
    "    return nombre_transformado\n",
    "\n",
    "def transformar_alumnos(alum):\n",
    "    for alumno in alum:\n",
    "        alumno['nombre'] = transformar_nombre(alumno['nombre'])\n",
    "    return alum\n",
    "    \n",
    "\n",
    "transformar_alumnos(a)"
   ]
  },
  {
   "cell_type": "markdown",
   "metadata": {},
   "source": [
    "Dada una lista de alumnos anterior, donde cada alumno es un dictionario con nombre, direccion y edad; implementa una solución basada en funciones que transforme la lista en dos listas de tuplas del tipo (nombre, direccion), (nombre, edad)."
   ]
  },
  {
   "cell_type": "code",
   "execution_count": 133,
   "metadata": {},
   "outputs": [
    {
     "name": "stdout",
     "output_type": "stream",
     "text": [
      "([('alvaro', 'calle...'), ('pepe', 'avenida...')], [('alvaro', 38), ('pepe', 35)])\n"
     ]
    }
   ],
   "source": [
    "a = [ {\"nombre\":\"alvaro\",\"direccion\":\"calle...\",\"edad\":38},{\"nombre\":\"pepe\",\"direccion\":\"avenida...\",\"edad\":35}]\n",
    "def func(lista):\n",
    "    lista_nombre_direccion = []\n",
    "    lista_nombre_edad = []\n",
    "    \n",
    "    for alumno in lista:\n",
    "        nombre = alumno['nombre']\n",
    "        direccion = alumno['direccion']\n",
    "        edad = alumno['edad']\n",
    "        \n",
    "        lista_nombre_direccion.append((nombre, direccion))\n",
    "        lista_nombre_edad.append((nombre, edad))\n",
    "    \n",
    "    return lista_nombre_direccion, lista_nombre_edad\n",
    "b= func(a)\n",
    "print(b)"
   ]
  },
  {
   "cell_type": "markdown",
   "metadata": {},
   "source": [
    "Escribe una expresión lambda que eleve al cubo todos los números de la lista siguiente: [1,2,3,4,5,6,7,8], usando la función map"
   ]
  },
  {
   "cell_type": "code",
   "execution_count": 112,
   "metadata": {},
   "outputs": [
    {
     "name": "stdout",
     "output_type": "stream",
     "text": [
      "[1, 8, 27, 64, 125, 216, 343, 512]\n"
     ]
    }
   ],
   "source": [
    "\n",
    "a=[1,2,3,4,5,6,7,8]\n",
    "\n",
    "cubos = list(map(lambda x: x**3, a))\n",
    "print(cubos)\n",
    "    "
   ]
  }
 ],
 "metadata": {
  "kernelspec": {
   "display_name": "Python 3 (ipykernel)",
   "language": "python",
   "name": "python3"
  },
  "language_info": {
   "codemirror_mode": {
    "name": "ipython",
    "version": 3
   },
   "file_extension": ".py",
   "mimetype": "text/x-python",
   "name": "python",
   "nbconvert_exporter": "python",
   "pygments_lexer": "ipython3",
   "version": "3.10.11"
  }
 },
 "nbformat": 4,
 "nbformat_minor": 2
}
