{
 "cells": [
  {
   "cell_type": "markdown",
   "metadata": {},
   "source": [
    "LIBRERIAS"
   ]
  },
  {
   "cell_type": "code",
   "execution_count": 3,
   "metadata": {},
   "outputs": [
    {
     "data": {
      "text/plain": [
       "3.141592653589793"
      ]
     },
     "execution_count": 3,
     "metadata": {},
     "output_type": "execute_result"
    }
   ],
   "source": [
    "import math\n",
    "math.pi"
   ]
  },
  {
   "cell_type": "code",
   "execution_count": 4,
   "metadata": {},
   "outputs": [
    {
     "name": "stdout",
     "output_type": "stream",
     "text": [
      "3.141592653589793 nan\n"
     ]
    }
   ],
   "source": [
    "from math import pi, nan\n",
    "print(pi,nan)"
   ]
  },
  {
   "cell_type": "code",
   "execution_count": 14,
   "metadata": {},
   "outputs": [
    {
     "name": "stdout",
     "output_type": "stream",
     "text": [
      "50 50\n"
     ]
    }
   ],
   "source": [
    "import statistics as st\n",
    "nums=list(range(1,100))\n",
    "a=st.mean(nums)\n",
    "b=st.median_high(nums)\n",
    "print(a,b)\n"
   ]
  },
  {
   "cell_type": "markdown",
   "metadata": {},
   "source": [
    "Abrir ficheros"
   ]
  },
  {
   "cell_type": "code",
   "execution_count": 15,
   "metadata": {},
   "outputs": [
    {
     "name": "stdout",
     "output_type": "stream",
     "text": [
      "/mnt/batch/tasks/shared/LS_root/mounts/clusters/antonio-alves/code/Users/antonio331977/PYTHON\n"
     ]
    }
   ],
   "source": [
    "import os\n",
    "\n",
    "base_path =os.getcwd()\n",
    "dir_path = os.path.dirname(os.path.realpath('/home/azureuser/cloudfiles/code/Users/antonio331977/PYTHON/fichero/'))\n",
    "print(dir_path)\n",
    "raiz = dir_path + \"/fichero/\""
   ]
  },
  {
   "cell_type": "code",
   "execution_count": 24,
   "metadata": {},
   "outputs": [],
   "source": [
    "texto =\"\"\"hola buenas tardes\n",
    "adios\"\"\"\n",
    "a = open(raiz + 'sampleantonio.txt','w')\n",
    "a.write(texto)\n",
    "a.close()"
   ]
  },
  {
   "cell_type": "code",
   "execution_count": 30,
   "metadata": {},
   "outputs": [
    {
     "name": "stdout",
     "output_type": "stream",
     "text": [
      "['hola buenas tardes', 'adios']\n"
     ]
    }
   ],
   "source": [
    "\n",
    "a = open(raiz + 'sampleantonio.txt','r').readlines()\n",
    "lista_limpia= list(map(lambda l:l.strip(),a))\n",
    "print(lista_limpia)\n"
   ]
  },
  {
   "cell_type": "code",
   "execution_count": 35,
   "metadata": {},
   "outputs": [
    {
     "name": "stdout",
     "output_type": "stream",
     "text": [
      "/mnt/batch/tasks/shared/LS_root/mounts/clusters/antonio-alves/code/Users/antonio331977/PYTHON/fichero/sampleantonio.txt\n"
     ]
    },
    {
     "ename": "FileNotFoundError",
     "evalue": "[Errno 2] No such file or directory: '/mnt/batch/tasks/shared/LS_root/mounts/clusters/antonio-alves/code/Users/antonio331977/PYTHON/fichero//sampleantonio.txt'",
     "output_type": "error",
     "traceback": [
      "\u001b[0;31m---------------------------------------------------------------------------\u001b[0m",
      "\u001b[0;31mFileNotFoundError\u001b[0m                         Traceback (most recent call last)",
      "Cell \u001b[0;32mIn[35], line 4\u001b[0m\n\u001b[1;32m      2\u001b[0m \u001b[38;5;28;01mif\u001b[39;00m isok:\n\u001b[1;32m      3\u001b[0m     \u001b[38;5;28mprint\u001b[39m(raiz \u001b[38;5;241m+\u001b[39m \u001b[38;5;124m'\u001b[39m\u001b[38;5;124msampleantonio.txt\u001b[39m\u001b[38;5;124m'\u001b[39m)\n\u001b[0;32m----> 4\u001b[0m     \u001b[43mos\u001b[49m\u001b[38;5;241;43m.\u001b[39;49m\u001b[43mremove\u001b[49m\u001b[43m(\u001b[49m\u001b[43mraiz\u001b[49m\u001b[43m \u001b[49m\u001b[38;5;241;43m+\u001b[39;49m\u001b[43m \u001b[49m\u001b[38;5;124;43m'\u001b[39;49m\u001b[38;5;124;43m/sampleantonio.txt\u001b[39;49m\u001b[38;5;124;43m'\u001b[39;49m\u001b[43m)\u001b[49m\n\u001b[1;32m      5\u001b[0m \u001b[38;5;28;01melse\u001b[39;00m:\n\u001b[1;32m      6\u001b[0m     \u001b[38;5;28mprint\u001b[39m (\u001b[38;5;124m\"\u001b[39m\u001b[38;5;124mno existe\u001b[39m\u001b[38;5;124m\"\u001b[39m)\n",
      "\u001b[0;31mFileNotFoundError\u001b[0m: [Errno 2] No such file or directory: '/mnt/batch/tasks/shared/LS_root/mounts/clusters/antonio-alves/code/Users/antonio331977/PYTHON/fichero//sampleantonio.txt'"
     ]
    }
   ],
   "source": [
    "isok =os.path.isfile(raiz + '/sampleantonio.txt')\n",
    "if isok:\n",
    "    print(raiz + 'sampleantonio.txt')\n",
    "    os.remove(raiz + '/sampleantonio.txt')\n",
    "else:\n",
    "    print (\"no existe\")"
   ]
  },
  {
   "cell_type": "code",
   "execution_count": null,
   "metadata": {},
   "outputs": [
    {
     "ename": "ValueError",
     "evalue": "could not convert string to float: 'Name'",
     "output_type": "error",
     "traceback": [
      "\u001b[0;31m---------------------------------------------------------------------------\u001b[0m",
      "\u001b[0;31mValueError\u001b[0m                                Traceback (most recent call last)",
      "Cell \u001b[0;32mIn[65], line 5\u001b[0m\n\u001b[1;32m      3\u001b[0m \u001b[38;5;28;01mfor\u001b[39;00m line \u001b[38;5;129;01min\u001b[39;00m notas:\n\u001b[1;32m      4\u001b[0m     a\u001b[38;5;241m=\u001b[39mline\u001b[38;5;241m.\u001b[39mstrip()\u001b[38;5;241m.\u001b[39msplit (\u001b[38;5;124m\"\u001b[39m\u001b[38;5;124m,\u001b[39m\u001b[38;5;124m\"\u001b[39m)\n\u001b[0;32m----> 5\u001b[0m     lista_notas \u001b[38;5;241m=\u001b[39m \u001b[38;5;28;43mlist\u001b[39;49m\u001b[43m(\u001b[49m\u001b[38;5;28;43mfloat\u001b[39;49m\u001b[43m(\u001b[49m\u001b[43mvalor\u001b[49m\u001b[43m)\u001b[49m\u001b[43m \u001b[49m\u001b[38;5;28;43;01mfor\u001b[39;49;00m\u001b[43m \u001b[49m\u001b[43mvalor\u001b[49m\u001b[43m \u001b[49m\u001b[38;5;129;43;01min\u001b[39;49;00m\u001b[43m \u001b[49m\u001b[43ma\u001b[49m\u001b[43m)\u001b[49m\n\u001b[1;32m      6\u001b[0m     media \u001b[38;5;241m=\u001b[39m st\u001b[38;5;241m.\u001b[39mmean(lista_notas)\n\u001b[1;32m      7\u001b[0m     varianza \u001b[38;5;241m=\u001b[39m st\u001b[38;5;241m.\u001b[39mvariance(lista_notas)\n",
      "Cell \u001b[0;32mIn[65], line 5\u001b[0m, in \u001b[0;36m<genexpr>\u001b[0;34m(.0)\u001b[0m\n\u001b[1;32m      3\u001b[0m \u001b[38;5;28;01mfor\u001b[39;00m line \u001b[38;5;129;01min\u001b[39;00m notas:\n\u001b[1;32m      4\u001b[0m     a\u001b[38;5;241m=\u001b[39mline\u001b[38;5;241m.\u001b[39mstrip()\u001b[38;5;241m.\u001b[39msplit (\u001b[38;5;124m\"\u001b[39m\u001b[38;5;124m,\u001b[39m\u001b[38;5;124m\"\u001b[39m)\n\u001b[0;32m----> 5\u001b[0m     lista_notas \u001b[38;5;241m=\u001b[39m \u001b[38;5;28mlist\u001b[39m(\u001b[38;5;28;43mfloat\u001b[39;49m\u001b[43m(\u001b[49m\u001b[43mvalor\u001b[49m\u001b[43m)\u001b[49m \u001b[38;5;28;01mfor\u001b[39;00m valor \u001b[38;5;129;01min\u001b[39;00m a)\n\u001b[1;32m      6\u001b[0m     media \u001b[38;5;241m=\u001b[39m st\u001b[38;5;241m.\u001b[39mmean(lista_notas)\n\u001b[1;32m      7\u001b[0m     varianza \u001b[38;5;241m=\u001b[39m st\u001b[38;5;241m.\u001b[39mvariance(lista_notas)\n",
      "\u001b[0;31mValueError\u001b[0m: could not convert string to float: 'Name'"
     ]
    }
   ],
   "source": [
    "import statistics as st\n",
    "notas = open(raiz + 'notas.csv','r')\n",
    "x=0\n",
    "for line in notas:\n",
    "    if x==0:\n",
    "    else:\n",
    "        a=line.strip().split (\",\")\n",
    "        lista_notas = list(float(valor) for valor in a)\n",
    "        media = st.mean(lista_notas)\n",
    "        varianza = st.variance(lista_notas)\n",
    "        print (media, varianza)"
   ]
  },
  {
   "cell_type": "markdown",
   "metadata": {},
   "source": [
    "- Procesa el fichero notas.csv para completarlo con la nota media y varianza de cada alumno, usando funciones estadísticas. Luego actualiza el fichero original"
   ]
  }
 ],
 "metadata": {
  "kernelspec": {
   "display_name": "Python 3.8 - AzureML",
   "language": "python",
   "name": "python38-azureml"
  },
  "language_info": {
   "codemirror_mode": {
    "name": "ipython",
    "version": 3
   },
   "file_extension": ".py",
   "mimetype": "text/x-python",
   "name": "python",
   "nbconvert_exporter": "python",
   "pygments_lexer": "ipython3",
   "version": "3.10.11"
  }
 },
 "nbformat": 4,
 "nbformat_minor": 2
}
